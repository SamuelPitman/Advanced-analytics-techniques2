{
 "cells": [
  {
   "cell_type": "markdown",
   "metadata": {},
   "source": [
    "# Week 4 Tutorial {-}\n",
    "\n",
    "\n",
    "### Unit Convenor & Lecturer {-}\n",
    "[George Milunovich](https://www.georgemilunovich.com)  \n",
    "[george.milunovich@mq.edu.au](mailto:george.milunovich@mq.edu.au)\n",
    "\n",
    "---\n",
    "\n",
    "**Objectives**\n",
    " \n",
    "- Q1: Go again through the code of **Training a Logistic Regression Model with scikit-learn** from Week 3 lecture\n",
    "- Q2: Compute the effect of 𝐶 on estimated weights in Logistic Regression (code on p. 77 of Raschka & Mirjalili textbook). \n",
    "    - Explain the code and the results\n",
    "- Q3: Complete Kaggle's [Booleans and Conditionals Tutorial](https://www.kaggle.com/colinmorris/booleans-and-conditionals)\n",
    "- Q4: Work on Assignment 1\n"
   ]
  },
  {
   "cell_type": "markdown",
   "metadata": {},
   "source": [
    "---\n",
    "\n",
    "## Q1: {-}\n",
    "\n",
    "- Go through the code of Training a Logistic Regression Model with scikit-learn from Week 3 lecture\n",
    "\n",
    "## Q2: {-}\n",
    "\n",
    "Compute the effect of 𝐶 on estimated weights in Logistic Regression (code on p. 77 of textbook). Explain the program and the result.\n",
    "\n",
    "In order to execute that code we need to first:\n",
    "- import data\n",
    "- make X & y\n",
    "- split data into training and test sets\n",
    "- standardise data\n",
    "\n",
    "---\n",
    "\n",
    "```\n",
    "from sklearn import datasets\n",
    "from sklearn.model_selection import train_test_split\n",
    "from sklearn.preprocessing import StandardScaler\n",
    "import numpy as np\n",
    "\n",
    "iris = datasets.load_iris()\n",
    "# print(iris.data)\n",
    "# print(iris.target)\n",
    "\n",
    "X = iris.data[:, [2, 3]]\n",
    "y = iris.target\n",
    "\n",
    "\n",
    "X_train, X_test, y_train, y_test = train_test_split(X, y, test_size = 0.3, random_state = 1, stratify = y)\n",
    "\n",
    "# print(X_train.shape)\n",
    "# print(y_train.shape)\n",
    "\n",
    "sc = StandardScaler()\n",
    "\n",
    "sc.fit(X_train)\n",
    "\n",
    "X_train_scaled = sc.transform(X_train)\n",
    "X_test_scaled = sc.transform(X_test)\n",
    "\n",
    "# print(X_test_scaled)\n",
    "```\n",
    "\n"
   ]
  },
  {
   "cell_type": "code",
   "execution_count": null,
   "metadata": {},
   "outputs": [],
   "source": []
  },
  {
   "cell_type": "markdown",
   "metadata": {},
   "source": [
    "---\n",
    "We can then implement the code on p. 77\n",
    "\n",
    "```\n",
    "from sklearn.linear_model import LogisticRegression\n",
    "import matplotlib.pyplot as plt\n",
    "\n",
    "weights, params = [], []\n",
    "# print(type(weights))\n",
    "# print(weights)\n",
    "\n",
    "# for c in np.arange(-5, 5):\n",
    "#     C = 10.**c\n",
    "#     print('c:', c, 'C:',C)\n",
    "\n",
    "for c in np.arange(-5, 5):\n",
    "    C_ = 10.**c\n",
    "    print('c:', c, 'C_:',C_)\n",
    "    \n",
    "    lr = LogisticRegression(C=C_, random_state=1, solver='lbfgs', multi_class='ovr')\n",
    "    lr.fit(X_train_scaled, y_train)\n",
    "#     print(lr.coef_[1])\n",
    "    weights.append(lr.coef_[1])\n",
    "    params.append(10.**c)\n",
    "\n",
    "# print('weights list', weights)\n",
    "weights = np.array(weights)\n",
    "# print('weights np array', weights)\n",
    "\n",
    "plt.plot(params, weights[:, 0], label='petal length')\n",
    "plt.plot(params, weights[:, 1], linestyle='--', label='petal width')\n",
    "plt.ylabel('weight coefficient')\n",
    "plt.xlabel('C')\n",
    "plt.legend(loc='upper left')\n",
    "plt.xscale('log')\n",
    "plt.show()\n",
    "\n",
    "print(np.around(weights, 2))\n",
    "```"
   ]
  },
  {
   "cell_type": "code",
   "execution_count": null,
   "metadata": {},
   "outputs": [],
   "source": []
  },
  {
   "cell_type": "markdown",
   "metadata": {},
   "source": [
    "## Q3: {-}\n",
    "- Complete Kaggle's [Booleans and Conditionals Tutorial](https://www.kaggle.com/colinmorris/booleans-and-conditionals)\n",
    "\n",
    "## Q4: {-}\n",
    "- Work on Assignment 1"
   ]
  },
  {
   "cell_type": "code",
   "execution_count": null,
   "metadata": {},
   "outputs": [],
   "source": []
  }
 ],
 "metadata": {
  "kernelspec": {
   "display_name": "Python 3 (ipykernel)",
   "language": "python",
   "name": "python3"
  },
  "language_info": {
   "codemirror_mode": {
    "name": "ipython",
    "version": 3
   },
   "file_extension": ".py",
   "mimetype": "text/x-python",
   "name": "python",
   "nbconvert_exporter": "python",
   "pygments_lexer": "ipython3",
   "version": "3.9.16"
  }
 },
 "nbformat": 4,
 "nbformat_minor": 4
}
