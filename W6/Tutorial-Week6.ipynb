{
 "cells": [
  {
   "cell_type": "markdown",
   "id": "6f76d664-d35b-452d-8faa-0ce85012aa29",
   "metadata": {
    "toc-hr-collapsed": true
   },
   "source": [
    "# Week 6 Tutorial Problems"
   ]
  },
  {
   "cell_type": "markdown",
   "id": "f3d7623e-e76f-47c3-875a-d53b45f487a4",
   "metadata": {},
   "source": [
    "1. Discuss Assignment 2\n",
    "\n",
    "Complete the following Kaggle Mini Tutorials  \n",
    "\n",
    "2. Pandas - Summary Functions and Maps [https://www.kaggle.com/code/residentmario/summary-functions-and-maps](https://www.kaggle.com/code/residentmario/summary-functions-and-maps)   \n",
    "3. Pandas - Grouping and Sorting [https://www.kaggle.com/code/residentmario/grouping-and-sorting](https://www.kaggle.com/code/residentmario/grouping-and-sorting)   \n",
    "4. Pandas - Data Types and Missing Value [https://www.kaggle.com/code/residentmario/data-types-and-missing-values](https://www.kaggle.com/code/residentmario/data-types-and-missing-values)\n",
    "\n"
   ]
  },
  {
   "cell_type": "code",
   "execution_count": null,
   "id": "08abc0fb-0e41-488c-865a-79701682bdc6",
   "metadata": {},
   "outputs": [],
   "source": []
  }
 ],
 "metadata": {
  "kernelspec": {
   "display_name": "Python 3 (ipykernel)",
   "language": "python",
   "name": "python3"
  },
  "language_info": {
   "codemirror_mode": {
    "name": "ipython",
    "version": 3
   },
   "file_extension": ".py",
   "mimetype": "text/x-python",
   "name": "python",
   "nbconvert_exporter": "python",
   "pygments_lexer": "ipython3",
   "version": "3.9.7"
  },
  "toc-autonumbering": false,
  "toc-showcode": false,
  "toc-showtags": true
 },
 "nbformat": 4,
 "nbformat_minor": 5
}
