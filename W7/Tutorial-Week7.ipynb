{
 "cells": [
  {
   "cell_type": "markdown",
   "id": "6f76d664-d35b-452d-8faa-0ce85012aa29",
   "metadata": {
    "toc-hr-collapsed": true
   },
   "source": [
    "# Week 7 Tutorial Problems"
   ]
  },
  {
   "cell_type": "markdown",
   "id": "f3d7623e-e76f-47c3-875a-d53b45f487a4",
   "metadata": {},
   "source": [
    "\n",
    "Complete the following Kaggle Mini Tutorials  \n",
    "\n",
    "1. Pandas - Renaming and Combining [https://www.kaggle.com/code/residentmario/renaming-and-combining](https://www.kaggle.com/code/residentmario/renaming-and-combining)\n",
    "2. Machine Learning - How Models Work [https://www.kaggle.com/code/dansbecker/how-models-work](https://www.kaggle.com/code/dansbecker/how-models-work)\n",
    "3. Machine Learning - Basic Data Exploration [https://www.kaggle.com/code/dansbecker/how-models-work](https://www.kaggle.com/code/dansbecker/how-models-work)\n",
    "4. Machine Learning - Your First Machine Learning Model [https://www.kaggle.com/code/dansbecker/how-models-work](https://www.kaggle.com/code/dansbecker/how-models-work)\n",
    "5. Machine Learning - Model Validation [https://www.kaggle.com/code/dansbecker/how-models-work](https://www.kaggle.com/code/dansbecker/how-models-work)\n",
    "\n"
   ]
  },
  {
   "cell_type": "code",
   "execution_count": null,
   "id": "08abc0fb-0e41-488c-865a-79701682bdc6",
   "metadata": {},
   "outputs": [],
   "source": []
  }
 ],
 "metadata": {
  "kernelspec": {
   "display_name": "Python 3 (ipykernel)",
   "language": "python",
   "name": "python3"
  },
  "language_info": {
   "codemirror_mode": {
    "name": "ipython",
    "version": 3
   },
   "file_extension": ".py",
   "mimetype": "text/x-python",
   "name": "python",
   "nbconvert_exporter": "python",
   "pygments_lexer": "ipython3",
   "version": "3.9.7"
  },
  "toc-autonumbering": false,
  "toc-showcode": false,
  "toc-showtags": true
 },
 "nbformat": 4,
 "nbformat_minor": 5
}
