{
 "cells": [
  {
   "cell_type": "code",
   "execution_count": 1,
   "id": "70c12b95",
   "metadata": {},
   "outputs": [],
   "source": [
    "import pandas as pd"
   ]
  },
  {
   "cell_type": "code",
   "execution_count": 2,
   "id": "82ec20ea",
   "metadata": {},
   "outputs": [],
   "source": [
    "df = pd.read_excel('../../Downloads/assignment_data.xlsx')\n",
    "dfID = df.drop_duplicates('ID')\n",
    "dfID_NoID = dfID.drop('ID',axis=1)\n",
    "dfID_NoIDR = dfID_NoID.reset_index().drop('index',axis=1)"
   ]
  },
  {
   "cell_type": "code",
   "execution_count": 3,
   "id": "7c1f2a75",
   "metadata": {},
   "outputs": [
    {
     "name": "stdout",
     "output_type": "stream",
     "text": [
      "967\n"
     ]
    }
   ],
   "source": [
    "count = 0\n",
    "for i in dfID_NoIDR['Days Employed']:\n",
    "    if float(i) > 0:\n",
    "        count += 1\n",
    "print(count)"
   ]
  },
  {
   "cell_type": "code",
   "execution_count": 4,
   "id": "9445f59b",
   "metadata": {},
   "outputs": [],
   "source": [
    "CopyofdfID_NoIDR = dfID_NoIDR['Days Employed'].copy()\n",
    "CopyofdfID_NoIDR[CopyofdfID_NoIDR > 0] = 0\n",
    "dfID_NoIDR['Days Employed'] = CopyofdfID_NoIDR"
   ]
  },
  {
   "cell_type": "code",
   "execution_count": 11,
   "id": "6e41d883",
   "metadata": {},
   "outputs": [],
   "source": [
    "dfID_NoIDR['Age'] = abs(dfID_NoIDR['Days Since Birth']/365.25)\n",
    "dfID_NoIDR['Years in Employment'] = abs(dfID_NoIDR['Days Employed']/365.25)\n",
    "dfNew = dfID_NoIDR.drop('Days Since Birth',axis=1)\n",
    "dfYears = dfNew.drop('Days Employed',axis=1)"
   ]
  },
  {
   "cell_type": "code",
   "execution_count": 28,
   "id": "2dd65833",
   "metadata": {},
   "outputs": [
    {
     "data": {
      "text/html": [
       "<div>\n",
       "<style scoped>\n",
       "    .dataframe tbody tr th:only-of-type {\n",
       "        vertical-align: middle;\n",
       "    }\n",
       "\n",
       "    .dataframe tbody tr th {\n",
       "        vertical-align: top;\n",
       "    }\n",
       "\n",
       "    .dataframe thead th {\n",
       "        text-align: right;\n",
       "    }\n",
       "</style>\n",
       "<table border=\"1\" class=\"dataframe\">\n",
       "  <thead>\n",
       "    <tr style=\"text-align: right;\">\n",
       "      <th></th>\n",
       "      <th>Gender</th>\n",
       "      <th>Car</th>\n",
       "      <th>Real Estate</th>\n",
       "      <th>Children</th>\n",
       "      <th>Income</th>\n",
       "      <th>Payment Default</th>\n",
       "      <th>Age</th>\n",
       "      <th>Years in Employment</th>\n",
       "    </tr>\n",
       "  </thead>\n",
       "  <tbody>\n",
       "    <tr>\n",
       "      <th>0</th>\n",
       "      <td>0</td>\n",
       "      <td>1</td>\n",
       "      <td>0</td>\n",
       "      <td>0</td>\n",
       "      <td>135000.0</td>\n",
       "      <td>1</td>\n",
       "      <td>28.032854</td>\n",
       "      <td>0.000000</td>\n",
       "    </tr>\n",
       "    <tr>\n",
       "      <th>1</th>\n",
       "      <td>0</td>\n",
       "      <td>0</td>\n",
       "      <td>1</td>\n",
       "      <td>0</td>\n",
       "      <td>202500.0</td>\n",
       "      <td>1</td>\n",
       "      <td>37.357974</td>\n",
       "      <td>14.713210</td>\n",
       "    </tr>\n",
       "    <tr>\n",
       "      <th>2</th>\n",
       "      <td>1</td>\n",
       "      <td>0</td>\n",
       "      <td>1</td>\n",
       "      <td>0</td>\n",
       "      <td>157500.0</td>\n",
       "      <td>1</td>\n",
       "      <td>45.524983</td>\n",
       "      <td>10.004107</td>\n",
       "    </tr>\n",
       "    <tr>\n",
       "      <th>3</th>\n",
       "      <td>0</td>\n",
       "      <td>0</td>\n",
       "      <td>0</td>\n",
       "      <td>1</td>\n",
       "      <td>270000.0</td>\n",
       "      <td>1</td>\n",
       "      <td>27.674196</td>\n",
       "      <td>4.032854</td>\n",
       "    </tr>\n",
       "    <tr>\n",
       "      <th>4</th>\n",
       "      <td>1</td>\n",
       "      <td>1</td>\n",
       "      <td>1</td>\n",
       "      <td>1</td>\n",
       "      <td>135000.0</td>\n",
       "      <td>0</td>\n",
       "      <td>42.384668</td>\n",
       "      <td>7.868583</td>\n",
       "    </tr>\n",
       "    <tr>\n",
       "      <th>...</th>\n",
       "      <td>...</td>\n",
       "      <td>...</td>\n",
       "      <td>...</td>\n",
       "      <td>...</td>\n",
       "      <td>...</td>\n",
       "      <td>...</td>\n",
       "      <td>...</td>\n",
       "      <td>...</td>\n",
       "    </tr>\n",
       "    <tr>\n",
       "      <th>4995</th>\n",
       "      <td>1</td>\n",
       "      <td>0</td>\n",
       "      <td>1</td>\n",
       "      <td>0</td>\n",
       "      <td>90000.0</td>\n",
       "      <td>1</td>\n",
       "      <td>50.817248</td>\n",
       "      <td>9.760438</td>\n",
       "    </tr>\n",
       "    <tr>\n",
       "      <th>4996</th>\n",
       "      <td>0</td>\n",
       "      <td>0</td>\n",
       "      <td>1</td>\n",
       "      <td>0</td>\n",
       "      <td>81000.0</td>\n",
       "      <td>1</td>\n",
       "      <td>27.033539</td>\n",
       "      <td>5.278576</td>\n",
       "    </tr>\n",
       "    <tr>\n",
       "      <th>4997</th>\n",
       "      <td>0</td>\n",
       "      <td>1</td>\n",
       "      <td>1</td>\n",
       "      <td>0</td>\n",
       "      <td>225000.0</td>\n",
       "      <td>0</td>\n",
       "      <td>56.643395</td>\n",
       "      <td>0.000000</td>\n",
       "    </tr>\n",
       "    <tr>\n",
       "      <th>4998</th>\n",
       "      <td>1</td>\n",
       "      <td>1</td>\n",
       "      <td>1</td>\n",
       "      <td>0</td>\n",
       "      <td>90000.0</td>\n",
       "      <td>1</td>\n",
       "      <td>30.554415</td>\n",
       "      <td>5.212868</td>\n",
       "    </tr>\n",
       "    <tr>\n",
       "      <th>4999</th>\n",
       "      <td>1</td>\n",
       "      <td>0</td>\n",
       "      <td>1</td>\n",
       "      <td>0</td>\n",
       "      <td>135000.0</td>\n",
       "      <td>0</td>\n",
       "      <td>56.815880</td>\n",
       "      <td>0.000000</td>\n",
       "    </tr>\n",
       "  </tbody>\n",
       "</table>\n",
       "<p>5000 rows × 8 columns</p>\n",
       "</div>"
      ],
      "text/plain": [
       "      Gender  Car  Real Estate  Children    Income  Payment Default  \\\n",
       "0          0    1            0         0  135000.0                1   \n",
       "1          0    0            1         0  202500.0                1   \n",
       "2          1    0            1         0  157500.0                1   \n",
       "3          0    0            0         1  270000.0                1   \n",
       "4          1    1            1         1  135000.0                0   \n",
       "...      ...  ...          ...       ...       ...              ...   \n",
       "4995       1    0            1         0   90000.0                1   \n",
       "4996       0    0            1         0   81000.0                1   \n",
       "4997       0    1            1         0  225000.0                0   \n",
       "4998       1    1            1         0   90000.0                1   \n",
       "4999       1    0            1         0  135000.0                0   \n",
       "\n",
       "            Age  Years in Employment  \n",
       "0     28.032854             0.000000  \n",
       "1     37.357974            14.713210  \n",
       "2     45.524983            10.004107  \n",
       "3     27.674196             4.032854  \n",
       "4     42.384668             7.868583  \n",
       "...         ...                  ...  \n",
       "4995  50.817248             9.760438  \n",
       "4996  27.033539             5.278576  \n",
       "4997  56.643395             0.000000  \n",
       "4998  30.554415             5.212868  \n",
       "4999  56.815880             0.000000  \n",
       "\n",
       "[5000 rows x 8 columns]"
      ]
     },
     "execution_count": 28,
     "metadata": {},
     "output_type": "execute_result"
    }
   ],
   "source": [
    "df_5000 = dfYears[0:5000]\n",
    "df_5000"
   ]
  },
  {
   "cell_type": "code",
   "execution_count": 29,
   "id": "583691be",
   "metadata": {},
   "outputs": [],
   "source": [
    "import numpy as np"
   ]
  },
  {
   "cell_type": "code",
   "execution_count": 52,
   "id": "b9d10b47",
   "metadata": {},
   "outputs": [
    {
     "data": {
      "text/plain": [
       "array([1, 1, 1, ..., 0, 1, 0])"
      ]
     },
     "execution_count": 52,
     "metadata": {},
     "output_type": "execute_result"
    }
   ],
   "source": [
    "y = np.ravel(df_5000['Payment Default'])\n",
    "y\n",
    "#Your function is dumb"
   ]
  },
  {
   "cell_type": "code",
   "execution_count": 65,
   "id": "82ab8e4c",
   "metadata": {},
   "outputs": [],
   "source": [
    "Car = np.ravel(df_5000['Car'])\n",
    "Gender = np.ravel(df_5000['Gender'])\n",
    "RE = np.ravel(df_5000['Real Estate'])\n",
    "Child = np.ravel(df_5000['Children'])\n",
    "IN = np.ravel(df_5000['Income'])\n",
    "AGE = np.ravel(df_5000['Age'])\n",
    "YIE = np.ravel(df_5000['Years in Employment'])\n",
    "X = np.array([Car,Gender,RE,Child,IN,AGE,YIE]).T\n",
    "\n",
    "#X = df_5000[['Car','Gender','Real Estate','Children','Income','Age','Years in Employment']].loc[:5000].values"
   ]
  },
  {
   "cell_type": "code",
   "execution_count": 68,
   "id": "7826b197",
   "metadata": {},
   "outputs": [],
   "source": [
    "from sklearn.model_selection import train_test_split\n",
    "\n",
    "X_train, X_test, y_train, y_test = train_test_split(X, y, test_size = 0.3, random_state = 0, stratify = y)\n",
    "\n",
    "# print(X_train.shape)\n",
    "# print(y_train.shape)\n",
    "# print(X_test.shape)\n",
    "# print(y_test.shape)\n",
    "#print(y_train)\n",
    "#print(y_test)"
   ]
  },
  {
   "cell_type": "code",
   "execution_count": 71,
   "id": "c03e9a9a",
   "metadata": {},
   "outputs": [
    {
     "name": "stdout",
     "output_type": "stream",
     "text": [
      "means: [     0.376      0.652      0.648      0.45  192123.022     43.558\n",
      "      6.072] [ 0. -0. -0. -0. -0.  0. -0.]\n",
      "sigmas [     0.484      0.476      0.478      0.807 115453.232     11.521\n",
      "      6.486] [1. 1. 1. 1. 1. 1. 1.]\n",
      "means: [     0.379      0.644      0.639      0.411 191404.599     43.699\n",
      "      6.054] [ 0.007 -0.017 -0.019 -0.048 -0.006  0.012 -0.003]\n",
      "sigmas [     0.485      0.479      0.48       0.71  102460.39      11.376\n",
      "      6.576] [1.002 1.005 1.006 0.881 0.887 0.987 1.014]\n"
     ]
    }
   ],
   "source": [
    "from sklearn.preprocessing import StandardScaler\n",
    "np.set_printoptions(precision=3, suppress = True) # pretty printing\n",
    "\n",
    "sc = StandardScaler()\n",
    "\n",
    "sc.fit(X_train)\n",
    "\n",
    "# print(dir(sc))\n",
    "# print(sc.mean_, sc.scale_)\n",
    "\n",
    "\n",
    "X_train_scaled = sc.transform(X_train)\n",
    "print('means:', X_train.mean(axis=0), X_train_scaled.mean(axis=0))\n",
    "print('sigmas', X_train.std(axis=0), X_train_scaled.std(axis=0))\n",
    "\n",
    "X_test_scaled = sc.transform(X_test)\n",
    "print('means:', X_test.mean(axis=0), X_test_scaled.mean(axis=0))\n",
    "print('sigmas', X_test.std(axis=0), X_test_scaled.std(axis=0))"
   ]
  },
  {
   "cell_type": "code",
   "execution_count": 72,
   "id": "fac3bcd7",
   "metadata": {},
   "outputs": [
    {
     "name": "stdout",
     "output_type": "stream",
     "text": [
      "--- Estimated Weights ---\n",
      "intercept:\n",
      " [-0.3]\n",
      "coefficients:\n",
      " [[-0.18  -0.009 -0.221 -0.204  0.294 -0.213 -0.335]]\n"
     ]
    }
   ],
   "source": [
    "from sklearn.linear_model import Perceptron\n",
    "\n",
    "ppn = Perceptron(eta0=0.1, random_state=1)\n",
    "ppn.fit(X_train_scaled, y_train)\n",
    "\n",
    "print('--- Estimated Weights ---')\n",
    "print('intercept:\\n', ppn.intercept_)\n",
    "print('coefficients:\\n', ppn.coef_)"
   ]
  },
  {
   "cell_type": "code",
   "execution_count": 73,
   "id": "0fbafd2e",
   "metadata": {},
   "outputs": [
    {
     "name": "stdout",
     "output_type": "stream",
     "text": [
      "Number of incorrectly classified in training set: 1685\n",
      "Misclassification Error: 0.481\n",
      "Accuracy: 0.519\n",
      "========================================\n",
      "Number of incorrectly classified in test set: 782\n",
      "Misclassification Error: 0.521\n",
      "Accuracy: 0.479\n"
     ]
    }
   ],
   "source": [
    "y_train_pred = ppn.predict(X_train_scaled)\n",
    "\n",
    "# print('Predictions:', y_train_pred)\n",
    "# print('True Labels:', y_train)\n",
    "\n",
    "print('Number of incorrectly classified in training set:', (y_train != y_train_pred).sum())\n",
    "\n",
    "error_train = (y_train != y_train_pred).sum()/len(y_train)\n",
    "\n",
    "print(f'Misclassification Error: {error_train:.3f}')\n",
    "print(f'Accuracy: {1 - error_train:.3f}')\n",
    "\n",
    "print(40*'=')\n",
    "\n",
    "y_test_pred = ppn.predict(X_test_scaled)\n",
    "print('Number of incorrectly classified in test set:', (y_test != y_test_pred).sum())\n",
    "error_test = (y_test != y_test_pred).sum()/len(y_test)\n",
    "\n",
    "print(f'Misclassification Error: {error_test:.3f}')\n",
    "print(f'Accuracy: {1 - error_test:.3f}')\n"
   ]
  },
  {
   "cell_type": "code",
   "execution_count": 74,
   "id": "7431a8bc",
   "metadata": {},
   "outputs": [
    {
     "name": "stdout",
     "output_type": "stream",
     "text": [
      "Accuracy = 0.479\n"
     ]
    }
   ],
   "source": [
    "from sklearn.metrics import accuracy_score\n",
    "print(f'Accuracy = {accuracy_score(y_test, y_test_pred):.3f}')"
   ]
  },
  {
   "cell_type": "code",
   "execution_count": 75,
   "id": "088331ab",
   "metadata": {},
   "outputs": [
    {
     "name": "stdout",
     "output_type": "stream",
     "text": [
      "Accuracy = 0.479\n"
     ]
    }
   ],
   "source": [
    "print(f'Accuracy = {ppn.score(X_test_scaled, y_test):.3f}')"
   ]
  }
 ],
 "metadata": {
  "kernelspec": {
   "display_name": "Python 3 (ipykernel)",
   "language": "python",
   "name": "python3"
  },
  "language_info": {
   "codemirror_mode": {
    "name": "ipython",
    "version": 3
   },
   "file_extension": ".py",
   "mimetype": "text/x-python",
   "name": "python",
   "nbconvert_exporter": "python",
   "pygments_lexer": "ipython3",
   "version": "3.9.7"
  }
 },
 "nbformat": 4,
 "nbformat_minor": 5
}
